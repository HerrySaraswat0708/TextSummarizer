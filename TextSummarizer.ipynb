{
  "nbformat": 4,
  "nbformat_minor": 0,
  "metadata": {
    "colab": {
      "provenance": [],
      "authorship_tag": "ABX9TyMfKeZdXu2nniiL7BvXix+t",
      "include_colab_link": true
    },
    "kernelspec": {
      "name": "python3",
      "display_name": "Python 3"
    },
    "language_info": {
      "name": "python"
    }
  },
  "cells": [
    {
      "cell_type": "markdown",
      "metadata": {
        "id": "view-in-github",
        "colab_type": "text"
      },
      "source": [
        "<a href=\"https://colab.research.google.com/github/HerrySaraswat0708/TextSummarizer/blob/main/TextSummarizer.ipynb\" target=\"_parent\"><img src=\"https://colab.research.google.com/assets/colab-badge.svg\" alt=\"Open In Colab\"/></a>"
      ]
    },
    {
      "cell_type": "code",
      "execution_count": null,
      "metadata": {
        "id": "RjVREt1bMYF9"
      },
      "outputs": [],
      "source": [
        "import re\n",
        "import nltk"
      ]
    },
    {
      "cell_type": "code",
      "source": [
        "text = 'just what is agility in the context of software engineering work? ivar jacobson [jac02a] provides a useful discussion: agility  has become today’s buzzword when describing a modern software process. everyone is agile. an agile team is a nimble team able to appropriately respond to changes. change is what software development is very much about. changes in the software being built, changes to the team members, changes because of new technology, changes of all kinds that may have an impact on the product they build or the project that creates the product. support for changes should be built-in everything we do in software, something we embrace because it is the heart and soul of software. an agile team recognizes that software is developed by individuals working in teams and that the skills of these people, their ability to collaborate is at the core for the success of the project.in jacobson’s view, the pervasiveness of change is the primary driver for agility. software engineers must be quick on their feet if they are to accommodate the rapid changes that jacobson describes.  but agility is more than an effective response to change. it also encompasses the philosophy espoused in the manifesto noted at the beginning of this chapter. it encourages team structures and attitudes that make communication (among team members, between technologists and business people, between software engineers and their managers) more facile. it emphasizes rapid delivery of operational software and deemphasizes the importance of intermediate work products (not always a good thing); it adopts the customer as a part of the development team and works to eliminate the “us and them” attitude that continues to pervade many software projects; it recognizes that planning in an uncertain world has its limits and that a project plan must be ﬂ exible.  agility can be applied to any software process. however, to accomplish this, it is essential that the process be designed in a way that allows the project team to adapt tasks and to streamline them, conduct planning in a way that understands the ﬂ uidity of an agile development approach, eliminate all but the most essential work products and keep them lean, and emphasize an incremental delivery strategy that gets working software to the customer as rapidly as feasible for the product type and operational environment. '"
      ],
      "metadata": {
        "id": "04sTTWAwMf5o"
      },
      "execution_count": null,
      "outputs": []
    },
    {
      "cell_type": "code",
      "source": [
        "# remove spaces, punctuations and numbers\n",
        "clean_text = re.sub('[^a-zA-Z]', ' ', text)\n",
        "clean_text = re.sub('\\s+', ' ', text)\n",
        "clean_text"
      ],
      "metadata": {
        "colab": {
          "base_uri": "https://localhost:8080/",
          "height": 123
        },
        "id": "Q373KaBVMhGW",
        "outputId": "0835adee-a50e-4a70-b320-a96997ad8aea"
      },
      "execution_count": null,
      "outputs": [
        {
          "output_type": "execute_result",
          "data": {
            "text/plain": [
              "'just what is agility in the context of software engineering work? ivar jacobson [jac02a] provides a useful discussion: agility has become today’s buzzword when describing a modern software process. everyone is agile. an agile team is a nimble team able to appropriately respond to changes. change is what software development is very much about. changes in the software being built, changes to the team members, changes because of new technology, changes of all kinds that may have an impact on the product they build or the project that creates the product. support for changes should be built-in everything we do in software, something we embrace because it is the heart and soul of software. an agile team recognizes that software is developed by individuals working in teams and that the skills of these people, their ability to collaborate is at the core for the success of the project.in jacobson’s view, the pervasiveness of change is the primary driver for agility. software engineers must be quick on their feet if they are to accommodate the rapid changes that jacobson describes. but agility is more than an effective response to change. it also encompasses the philosophy espoused in the manifesto noted at the beginning of this chapter. it encourages team structures and attitudes that make communication (among team members, between technologists and business people, between software engineers and their managers) more facile. it emphasizes rapid delivery of operational software and deemphasizes the importance of intermediate work products (not always a good thing); it adopts the customer as a part of the development team and works to eliminate the “us and them” attitude that continues to pervade many software projects; it recognizes that planning in an uncertain world has its limits and that a project plan must be ﬂ exible. agility can be applied to any software process. however, to accomplish this, it is essential that the process be designed in a way that allows the project team to adapt tasks and to streamline them, conduct planning in a way that understands the ﬂ uidity of an agile development approach, eliminate all but the most essential work products and keep them lean, and emphasize an incremental delivery strategy that gets working software to the customer as rapidly as feasible for the product type and operational environment. '"
            ],
            "application/vnd.google.colaboratory.intrinsic+json": {
              "type": "string"
            }
          },
          "metadata": {},
          "execution_count": 3
        }
      ]
    },
    {
      "cell_type": "code",
      "source": [
        "nltk.download('punkt')"
      ],
      "metadata": {
        "colab": {
          "base_uri": "https://localhost:8080/"
        },
        "id": "Ssobz05jM_a4",
        "outputId": "bca4cd4e-859e-4a15-c3d0-1427f562dd7d"
      },
      "execution_count": null,
      "outputs": [
        {
          "output_type": "stream",
          "name": "stderr",
          "text": [
            "[nltk_data] Downloading package punkt to /root/nltk_data...\n",
            "[nltk_data]   Unzipping tokenizers/punkt.zip.\n"
          ]
        },
        {
          "output_type": "execute_result",
          "data": {
            "text/plain": [
              "True"
            ]
          },
          "metadata": {},
          "execution_count": 6
        }
      ]
    },
    {
      "cell_type": "code",
      "source": [
        "# split into sentence list\n",
        "sentence_list = nltk.sent_tokenize(text)\n",
        "sentence_list"
      ],
      "metadata": {
        "colab": {
          "base_uri": "https://localhost:8080/"
        },
        "id": "9BsQLI2FM2Lg",
        "outputId": "509cf5c2-7071-4bef-a31b-6ce02621c317"
      },
      "execution_count": null,
      "outputs": [
        {
          "output_type": "execute_result",
          "data": {
            "text/plain": [
              "['just what is agility in the context of software engineering work?',\n",
              " 'ivar jacobson [jac02a] provides a useful discussion: agility  has become today’s buzzword when describing a modern software process.',\n",
              " 'everyone is agile.',\n",
              " 'an agile team is a nimble team able to appropriately respond to changes.',\n",
              " 'change is what software development is very much about.',\n",
              " 'changes in the software being built, changes to the team members, changes because of new technology, changes of all kinds that may have an impact on the product they build or the project that creates the product.',\n",
              " 'support for changes should be built-in everything we do in software, something we embrace because it is the heart and soul of software.',\n",
              " 'an agile team recognizes that software is developed by individuals working in teams and that the skills of these people, their ability to collaborate is at the core for the success of the project.in jacobson’s view, the pervasiveness of change is the primary driver for agility.',\n",
              " 'software engineers must be quick on their feet if they are to accommodate the rapid changes that jacobson describes.',\n",
              " 'but agility is more than an effective response to change.',\n",
              " 'it also encompasses the philosophy espoused in the manifesto noted at the beginning of this chapter.',\n",
              " 'it encourages team structures and attitudes that make communication (among team members, between technologists and business people, between software engineers and their managers) more facile.',\n",
              " 'it emphasizes rapid delivery of operational software and deemphasizes the importance of intermediate work products (not always a good thing); it adopts the customer as a part of the development team and works to eliminate the “us and them” attitude that continues to pervade many software projects; it recognizes that planning in an uncertain world has its limits and that a project plan must be ﬂ exible.',\n",
              " 'agility can be applied to any software process.',\n",
              " 'however, to accomplish this, it is essential that the process be designed in a way that allows the project team to adapt tasks and to streamline them, conduct planning in a way that understands the ﬂ uidity of an agile development approach, eliminate all but the most essential work products and keep them lean, and emphasize an incremental delivery strategy that gets working software to the customer as rapidly as feasible for the product type and operational environment.']"
            ]
          },
          "metadata": {},
          "execution_count": 7
        }
      ]
    },
    {
      "cell_type": "code",
      "source": [
        "nltk.download('stopwords')"
      ],
      "metadata": {
        "colab": {
          "base_uri": "https://localhost:8080/"
        },
        "id": "anzTHkr2M30j",
        "outputId": "794c5701-78e1-49c2-c1d2-618a728ce03d"
      },
      "execution_count": null,
      "outputs": [
        {
          "output_type": "stream",
          "name": "stderr",
          "text": [
            "[nltk_data] Downloading package stopwords to /root/nltk_data...\n",
            "[nltk_data]   Unzipping corpora/stopwords.zip.\n"
          ]
        },
        {
          "output_type": "execute_result",
          "data": {
            "text/plain": [
              "True"
            ]
          },
          "metadata": {},
          "execution_count": 8
        }
      ]
    },
    {
      "cell_type": "code",
      "source": [
        "\n",
        "stopwords = nltk.corpus.stopwords.words('english')\n",
        "\n",
        "word_frequencies = {}\n",
        "for word in nltk.word_tokenize(clean_text):\n",
        "    if word not in stopwords:\n",
        "        if word not in word_frequencies:\n",
        "            word_frequencies[word] = 1\n",
        "        else:\n",
        "            word_frequencies[word] += 1"
      ],
      "metadata": {
        "id": "IW8d5LZoNQy2"
      },
      "execution_count": null,
      "outputs": []
    },
    {
      "cell_type": "code",
      "source": [
        "maximum_frequency = max(word_frequencies.values())\n",
        "\n",
        "for word in word_frequencies:\n",
        "    word_frequencies[word] = word_frequencies[word] / maximum_frequency"
      ],
      "metadata": {
        "id": "ev2ssC42No1Y"
      },
      "execution_count": null,
      "outputs": []
    },
    {
      "cell_type": "code",
      "source": [
        "\n",
        "sentence_scores = {}\n",
        "\n",
        "for sentence in sentence_list:\n",
        "    for word in nltk.word_tokenize(sentence):\n",
        "        if word in word_frequencies and len(sentence.split(' ')) < 30:\n",
        "            if sentence not in sentence_scores:\n",
        "                sentence_scores[sentence] = word_frequencies[word]\n",
        "            else:\n",
        "                sentence_scores[sentence] += word_frequencies[word]"
      ],
      "metadata": {
        "id": "MDvqYD8oNx7O"
      },
      "execution_count": null,
      "outputs": []
    },
    {
      "cell_type": "code",
      "source": [
        "word_frequencies"
      ],
      "metadata": {
        "colab": {
          "base_uri": "https://localhost:8080/"
        },
        "id": "BtIaz8ygOA2F",
        "outputId": "4acac328-5cf6-46e7-8d53-21573ef8ad80"
      },
      "execution_count": null,
      "outputs": [
        {
          "output_type": "execute_result",
          "data": {
            "text/plain": [
              "{'agility': 0.35714285714285715,\n",
              " 'context': 0.07142857142857142,\n",
              " 'software': 0.9285714285714286,\n",
              " 'engineering': 0.07142857142857142,\n",
              " 'work': 0.21428571428571427,\n",
              " '?': 0.07142857142857142,\n",
              " 'ivar': 0.07142857142857142,\n",
              " 'jacobson': 0.21428571428571427,\n",
              " '[': 0.07142857142857142,\n",
              " 'jac02a': 0.07142857142857142,\n",
              " ']': 0.07142857142857142,\n",
              " 'provides': 0.07142857142857142,\n",
              " 'useful': 0.07142857142857142,\n",
              " 'discussion': 0.07142857142857142,\n",
              " ':': 0.07142857142857142,\n",
              " 'become': 0.07142857142857142,\n",
              " 'today': 0.07142857142857142,\n",
              " '’': 0.14285714285714285,\n",
              " 'buzzword': 0.07142857142857142,\n",
              " 'describing': 0.07142857142857142,\n",
              " 'modern': 0.07142857142857142,\n",
              " 'process': 0.21428571428571427,\n",
              " '.': 1.0,\n",
              " 'everyone': 0.07142857142857142,\n",
              " 'agile': 0.2857142857142857,\n",
              " 'team': 0.5714285714285714,\n",
              " 'nimble': 0.07142857142857142,\n",
              " 'able': 0.07142857142857142,\n",
              " 'appropriately': 0.07142857142857142,\n",
              " 'respond': 0.07142857142857142,\n",
              " 'changes': 0.5,\n",
              " 'change': 0.21428571428571427,\n",
              " 'development': 0.21428571428571427,\n",
              " 'much': 0.07142857142857142,\n",
              " 'built': 0.07142857142857142,\n",
              " ',': 0.9285714285714286,\n",
              " 'members': 0.14285714285714285,\n",
              " 'new': 0.07142857142857142,\n",
              " 'technology': 0.07142857142857142,\n",
              " 'kinds': 0.07142857142857142,\n",
              " 'may': 0.07142857142857142,\n",
              " 'impact': 0.07142857142857142,\n",
              " 'product': 0.21428571428571427,\n",
              " 'build': 0.07142857142857142,\n",
              " 'project': 0.21428571428571427,\n",
              " 'creates': 0.07142857142857142,\n",
              " 'support': 0.07142857142857142,\n",
              " 'built-in': 0.07142857142857142,\n",
              " 'everything': 0.07142857142857142,\n",
              " 'something': 0.07142857142857142,\n",
              " 'embrace': 0.07142857142857142,\n",
              " 'heart': 0.07142857142857142,\n",
              " 'soul': 0.07142857142857142,\n",
              " 'recognizes': 0.14285714285714285,\n",
              " 'developed': 0.07142857142857142,\n",
              " 'individuals': 0.07142857142857142,\n",
              " 'working': 0.14285714285714285,\n",
              " 'teams': 0.07142857142857142,\n",
              " 'skills': 0.07142857142857142,\n",
              " 'people': 0.14285714285714285,\n",
              " 'ability': 0.07142857142857142,\n",
              " 'collaborate': 0.07142857142857142,\n",
              " 'core': 0.07142857142857142,\n",
              " 'success': 0.07142857142857142,\n",
              " 'project.in': 0.07142857142857142,\n",
              " 'view': 0.07142857142857142,\n",
              " 'pervasiveness': 0.07142857142857142,\n",
              " 'primary': 0.07142857142857142,\n",
              " 'driver': 0.07142857142857142,\n",
              " 'engineers': 0.14285714285714285,\n",
              " 'must': 0.14285714285714285,\n",
              " 'quick': 0.07142857142857142,\n",
              " 'feet': 0.07142857142857142,\n",
              " 'accommodate': 0.07142857142857142,\n",
              " 'rapid': 0.14285714285714285,\n",
              " 'describes': 0.07142857142857142,\n",
              " 'effective': 0.07142857142857142,\n",
              " 'response': 0.07142857142857142,\n",
              " 'also': 0.07142857142857142,\n",
              " 'encompasses': 0.07142857142857142,\n",
              " 'philosophy': 0.07142857142857142,\n",
              " 'espoused': 0.07142857142857142,\n",
              " 'manifesto': 0.07142857142857142,\n",
              " 'noted': 0.07142857142857142,\n",
              " 'beginning': 0.07142857142857142,\n",
              " 'chapter': 0.07142857142857142,\n",
              " 'encourages': 0.07142857142857142,\n",
              " 'structures': 0.07142857142857142,\n",
              " 'attitudes': 0.07142857142857142,\n",
              " 'make': 0.07142857142857142,\n",
              " 'communication': 0.07142857142857142,\n",
              " '(': 0.14285714285714285,\n",
              " 'among': 0.07142857142857142,\n",
              " 'technologists': 0.07142857142857142,\n",
              " 'business': 0.07142857142857142,\n",
              " 'managers': 0.07142857142857142,\n",
              " ')': 0.14285714285714285,\n",
              " 'facile': 0.07142857142857142,\n",
              " 'emphasizes': 0.07142857142857142,\n",
              " 'delivery': 0.14285714285714285,\n",
              " 'operational': 0.14285714285714285,\n",
              " 'deemphasizes': 0.07142857142857142,\n",
              " 'importance': 0.07142857142857142,\n",
              " 'intermediate': 0.07142857142857142,\n",
              " 'products': 0.14285714285714285,\n",
              " 'always': 0.07142857142857142,\n",
              " 'good': 0.07142857142857142,\n",
              " 'thing': 0.07142857142857142,\n",
              " ';': 0.14285714285714285,\n",
              " 'adopts': 0.07142857142857142,\n",
              " 'customer': 0.14285714285714285,\n",
              " 'part': 0.07142857142857142,\n",
              " 'works': 0.07142857142857142,\n",
              " 'eliminate': 0.14285714285714285,\n",
              " '“': 0.07142857142857142,\n",
              " 'us': 0.07142857142857142,\n",
              " '”': 0.07142857142857142,\n",
              " 'attitude': 0.07142857142857142,\n",
              " 'continues': 0.07142857142857142,\n",
              " 'pervade': 0.07142857142857142,\n",
              " 'many': 0.07142857142857142,\n",
              " 'projects': 0.07142857142857142,\n",
              " 'planning': 0.14285714285714285,\n",
              " 'uncertain': 0.07142857142857142,\n",
              " 'world': 0.07142857142857142,\n",
              " 'limits': 0.07142857142857142,\n",
              " 'plan': 0.07142857142857142,\n",
              " 'ﬂ': 0.14285714285714285,\n",
              " 'exible': 0.07142857142857142,\n",
              " 'applied': 0.07142857142857142,\n",
              " 'however': 0.07142857142857142,\n",
              " 'accomplish': 0.07142857142857142,\n",
              " 'essential': 0.14285714285714285,\n",
              " 'designed': 0.07142857142857142,\n",
              " 'way': 0.14285714285714285,\n",
              " 'allows': 0.07142857142857142,\n",
              " 'adapt': 0.07142857142857142,\n",
              " 'tasks': 0.07142857142857142,\n",
              " 'streamline': 0.07142857142857142,\n",
              " 'conduct': 0.07142857142857142,\n",
              " 'understands': 0.07142857142857142,\n",
              " 'uidity': 0.07142857142857142,\n",
              " 'approach': 0.07142857142857142,\n",
              " 'keep': 0.07142857142857142,\n",
              " 'lean': 0.07142857142857142,\n",
              " 'emphasize': 0.07142857142857142,\n",
              " 'incremental': 0.07142857142857142,\n",
              " 'strategy': 0.07142857142857142,\n",
              " 'gets': 0.07142857142857142,\n",
              " 'rapidly': 0.07142857142857142,\n",
              " 'feasible': 0.07142857142857142,\n",
              " 'type': 0.07142857142857142,\n",
              " 'environment': 0.07142857142857142}"
            ]
          },
          "metadata": {},
          "execution_count": 12
        }
      ]
    },
    {
      "cell_type": "code",
      "source": [
        "sentence_scores"
      ],
      "metadata": {
        "colab": {
          "base_uri": "https://localhost:8080/"
        },
        "id": "XVyQ9e6kOE8Z",
        "outputId": "719fc7f6-57eb-45bd-ce08-1235e8b47380"
      },
      "execution_count": null,
      "outputs": [
        {
          "output_type": "execute_result",
          "data": {
            "text/plain": [
              "{'just what is agility in the context of software engineering work?': 1.7142857142857142,\n",
              " 'ivar jacobson [jac02a] provides a useful discussion: agility  has become today’s buzzword when describing a modern software process.': 3.7857142857142856,\n",
              " 'everyone is agile.': 1.3571428571428572,\n",
              " 'an agile team is a nimble team able to appropriately respond to changes.': 3.2142857142857144,\n",
              " 'change is what software development is very much about.': 2.4285714285714284,\n",
              " 'support for changes should be built-in everything we do in software, something we embrace because it is the heart and soul of software.': 4.7857142857142865,\n",
              " 'software engineers must be quick on their feet if they are to accommodate the rapid changes that jacobson describes.': 3.357142857142857,\n",
              " 'but agility is more than an effective response to change.': 1.7142857142857144,\n",
              " 'it also encompasses the philosophy espoused in the manifesto noted at the beginning of this chapter.': 1.5714285714285712,\n",
              " 'it encourages team structures and attitudes that make communication (among team members, between technologists and business people, between software engineers and their managers) more facile.': 6.357142857142858,\n",
              " 'agility can be applied to any software process.': 2.571428571428571}"
            ]
          },
          "metadata": {},
          "execution_count": 13
        }
      ]
    },
    {
      "cell_type": "code",
      "source": [
        "import heapq\n",
        "summary = heapq.nlargest(5, sentence_scores, key=sentence_scores.get)\n",
        "print(\" \".join(summary))"
      ],
      "metadata": {
        "colab": {
          "base_uri": "https://localhost:8080/"
        },
        "id": "gWszEtyvOPX3",
        "outputId": "5183f67f-04b0-4e5b-f1cb-512e9bd892ba"
      },
      "execution_count": null,
      "outputs": [
        {
          "output_type": "stream",
          "name": "stdout",
          "text": [
            "it encourages team structures and attitudes that make communication (among team members, between technologists and business people, between software engineers and their managers) more facile. support for changes should be built-in everything we do in software, something we embrace because it is the heart and soul of software. ivar jacobson [jac02a] provides a useful discussion: agility  has become today’s buzzword when describing a modern software process. software engineers must be quick on their feet if they are to accommodate the rapid changes that jacobson describes. an agile team is a nimble team able to appropriately respond to changes.\n"
          ]
        }
      ]
    },
    {
      "cell_type": "code",
      "source": [
        "def TextSummarizer(text):\n",
        "\n",
        "  clean_text = re.sub('[^a-zA-Z]', ' ', text)\n",
        "  clean_text = re.sub('\\s+', ' ', text)\n",
        "  clean_text\n",
        "  # split into sentence list\n",
        "  sentence_list = nltk.sent_tokenize(text)\n",
        "  sentence_list\n",
        "\n",
        "    \n",
        "  stopwords = nltk.corpus.stopwords.words('english')\n",
        "  word_frequencies = {}\n",
        "  for word in nltk.word_tokenize(clean_text):\n",
        "      if word not in stopwords:\n",
        "          if word not in word_frequencies:\n",
        "              word_frequencies[word] = 1\n",
        "          else:\n",
        "              word_frequencies[word] += 1\n",
        "\n",
        "  maximum_frequency = max(word_frequencies.values())\n",
        "\n",
        "  for word in word_frequencies:\n",
        "      word_frequencies[word] = word_frequencies[word] / maximum_frequency\n",
        "    \n",
        "\n",
        "  sentence_scores = {}\n",
        "\n",
        "  for sentence in sentence_list:\n",
        "      for word in nltk.word_tokenize(sentence):\n",
        "          if word in word_frequencies and len(sentence.split(' ')) < 30:\n",
        "              if sentence not in sentence_scores:\n",
        "                  sentence_scores[sentence] = word_frequencies[word]\n",
        "              else:\n",
        "                sentence_scores[sentence] += word_frequencies[word]\n",
        "\n",
        "  summary = heapq.nlargest(5, sentence_scores, key=sentence_scores.get)\n",
        "  print(\" \".join(summary))"
      ],
      "metadata": {
        "id": "sGSXHRG8OTsO"
      },
      "execution_count": null,
      "outputs": []
    },
    {
      "cell_type": "code",
      "source": [
        "text=\"Machine learning (ML) is a field of inquiry devoted to understanding and building methods that 'learn', that is, methods that leverage data to improve performance on some set of tasks.[1] It is seen as a part of artificial intelligence. Machine learning algorithms build a model based on sample data, known as training data, in order to make predictions or decisions without being explicitly programmed to do so.[2] Machine learning algorithms are used in a wide variety of applications, such as in medicine, email filtering, speech recognition, and computer vision, where it is difficult or unfeasible to develop conventional algorithms to perform the needed tasks.[3]A subset of machine learning is closely related to computational statistics, which focuses on making predictions using computers, but not all machine learning is statistical learning. The study of mathematical optimization delivers methods, theory and application domains to the field of machine learning. Data mining is a related field of study, focusing on exploratory data analysis through unsupervised learning.[5][6] Some implementations of machine learning use data and neural networks in a way that mimics the working of a biological brain.[7][8] In its application across business problems, machine learning is also referred to as predictive analytics.\""
      ],
      "metadata": {
        "id": "QyeStb40SNxA"
      },
      "execution_count": null,
      "outputs": []
    },
    {
      "cell_type": "code",
      "source": [
        "TextSummarizer(text)"
      ],
      "metadata": {
        "colab": {
          "base_uri": "https://localhost:8080/"
        },
        "id": "YLcISWJlROOn",
        "outputId": "c644daf1-b023-451c-e8c2-de05b3c0ee30"
      },
      "execution_count": null,
      "outputs": [
        {
          "output_type": "stream",
          "name": "stdout",
          "text": [
            "[3]A subset of machine learning is closely related to computational statistics, which focuses on making predictions using computers, but not all machine learning is statistical learning. [7][8] In its application across business problems, machine learning is also referred to as predictive analytics. Machine learning algorithms build a model based on sample data, known as training data, in order to make predictions or decisions without being explicitly programmed to do so. [5][6] Some implementations of machine learning use data and neural networks in a way that mimics the working of a biological brain. The study of mathematical optimization delivers methods, theory and application domains to the field of machine learning.\n"
          ]
        }
      ]
    },
    {
      "cell_type": "code",
      "source": [],
      "metadata": {
        "id": "Qe0ptbGNRo95"
      },
      "execution_count": null,
      "outputs": []
    }
  ]
}